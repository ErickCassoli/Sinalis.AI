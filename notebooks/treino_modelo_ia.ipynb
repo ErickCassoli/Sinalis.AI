{
 "cells": [
  {
   "cell_type": "code",
   "execution_count": 6,
   "id": "b49b5c67",
   "metadata": {},
   "outputs": [],
   "source": [
    "import sys\n",
    "from pathlib import Path\n",
    "\n",
    "# Caminho absoluto do diretório raiz do projeto\n",
    "sys.path.append(str(Path().resolve().parent))\n"
   ]
  },
  {
   "cell_type": "code",
   "execution_count": 7,
   "id": "5f601365",
   "metadata": {},
   "outputs": [],
   "source": [
    "import sqlite3\n",
    "from pathlib import Path\n",
    "import pandas as pd\n",
    "import joblib\n",
    "from sklearn.model_selection import train_test_split\n",
    "from sklearn.preprocessing import StandardScaler\n",
    "from sklearn.ensemble import RandomForestClassifier\n",
    "from sklearn.metrics import accuracy_score, precision_score, recall_score, f1_score, confusion_matrix\n",
    "from indicators.rsi import adicionar_rsi\n",
    "from indicators.macd import adicionar_macd\n",
    "from indicators.bollinger import adicionar_bbands\n",
    "from patterns.engolfo import engolfo_de_alta, engolfo_de_baixa"
   ]
  },
  {
   "cell_type": "code",
   "execution_count": 22,
   "id": "f80dc952",
   "metadata": {},
   "outputs": [
    {
     "name": "stdout",
     "output_type": "stream",
     "text": [
      "Antes do preparo: 26\n",
      "Depois do preparo: 0\n"
     ]
    },
    {
     "ename": "ValueError",
     "evalue": "With n_samples=0, test_size=0.2 and train_size=None, the resulting train set will be empty. Adjust any of the aforementioned parameters.",
     "output_type": "error",
     "traceback": [
      "\u001b[31m---------------------------------------------------------------------------\u001b[39m",
      "\u001b[31mValueError\u001b[39m                                Traceback (most recent call last)",
      "\u001b[36mCell\u001b[39m\u001b[36m \u001b[39m\u001b[32mIn[22]\u001b[39m\u001b[32m, line 48\u001b[39m\n\u001b[32m     46\u001b[39m df = carregar_dados()\n\u001b[32m     47\u001b[39m df = preparar_dados(df)\n\u001b[32m---> \u001b[39m\u001b[32m48\u001b[39m \u001b[43mtreinar_modelo\u001b[49m\u001b[43m(\u001b[49m\u001b[43mdf\u001b[49m\u001b[43m)\u001b[49m\n",
      "\u001b[36mCell\u001b[39m\u001b[36m \u001b[39m\u001b[32mIn[22]\u001b[39m\u001b[32m, line 29\u001b[39m, in \u001b[36mtreinar_modelo\u001b[39m\u001b[34m(df)\u001b[39m\n\u001b[32m     27\u001b[39m X = df[features]\n\u001b[32m     28\u001b[39m y = df[\u001b[33m'\u001b[39m\u001b[33mtarget\u001b[39m\u001b[33m'\u001b[39m]\n\u001b[32m---> \u001b[39m\u001b[32m29\u001b[39m X_train, X_test, y_train, y_test = \u001b[43mtrain_test_split\u001b[49m\u001b[43m(\u001b[49m\u001b[43mX\u001b[49m\u001b[43m,\u001b[49m\u001b[43m \u001b[49m\u001b[43my\u001b[49m\u001b[43m,\u001b[49m\u001b[43m \u001b[49m\u001b[43mtest_size\u001b[49m\u001b[43m=\u001b[49m\u001b[32;43m0.2\u001b[39;49m\u001b[43m,\u001b[49m\u001b[43m \u001b[49m\u001b[43mshuffle\u001b[49m\u001b[43m=\u001b[49m\u001b[38;5;28;43;01mFalse\u001b[39;49;00m\u001b[43m)\u001b[49m\n\u001b[32m     30\u001b[39m scaler = StandardScaler()\n\u001b[32m     31\u001b[39m X_train = scaler.fit_transform(X_train)\n",
      "\u001b[36mFile \u001b[39m\u001b[32mc:\\Users\\erick\\OneDrive\\Documentos\\Repositorios\\Sinalis.AI\\.venv\\Lib\\site-packages\\sklearn\\utils\\_param_validation.py:218\u001b[39m, in \u001b[36mvalidate_params.<locals>.decorator.<locals>.wrapper\u001b[39m\u001b[34m(*args, **kwargs)\u001b[39m\n\u001b[32m    212\u001b[39m \u001b[38;5;28;01mtry\u001b[39;00m:\n\u001b[32m    213\u001b[39m     \u001b[38;5;28;01mwith\u001b[39;00m config_context(\n\u001b[32m    214\u001b[39m         skip_parameter_validation=(\n\u001b[32m    215\u001b[39m             prefer_skip_nested_validation \u001b[38;5;129;01mor\u001b[39;00m global_skip_validation\n\u001b[32m    216\u001b[39m         )\n\u001b[32m    217\u001b[39m     ):\n\u001b[32m--> \u001b[39m\u001b[32m218\u001b[39m         \u001b[38;5;28;01mreturn\u001b[39;00m \u001b[43mfunc\u001b[49m\u001b[43m(\u001b[49m\u001b[43m*\u001b[49m\u001b[43margs\u001b[49m\u001b[43m,\u001b[49m\u001b[43m \u001b[49m\u001b[43m*\u001b[49m\u001b[43m*\u001b[49m\u001b[43mkwargs\u001b[49m\u001b[43m)\u001b[49m\n\u001b[32m    219\u001b[39m \u001b[38;5;28;01mexcept\u001b[39;00m InvalidParameterError \u001b[38;5;28;01mas\u001b[39;00m e:\n\u001b[32m    220\u001b[39m     \u001b[38;5;66;03m# When the function is just a wrapper around an estimator, we allow\u001b[39;00m\n\u001b[32m    221\u001b[39m     \u001b[38;5;66;03m# the function to delegate validation to the estimator, but we replace\u001b[39;00m\n\u001b[32m    222\u001b[39m     \u001b[38;5;66;03m# the name of the estimator by the name of the function in the error\u001b[39;00m\n\u001b[32m    223\u001b[39m     \u001b[38;5;66;03m# message to avoid confusion.\u001b[39;00m\n\u001b[32m    224\u001b[39m     msg = re.sub(\n\u001b[32m    225\u001b[39m         \u001b[33mr\u001b[39m\u001b[33m\"\u001b[39m\u001b[33mparameter of \u001b[39m\u001b[33m\\\u001b[39m\u001b[33mw+ must be\u001b[39m\u001b[33m\"\u001b[39m,\n\u001b[32m    226\u001b[39m         \u001b[33mf\u001b[39m\u001b[33m\"\u001b[39m\u001b[33mparameter of \u001b[39m\u001b[38;5;132;01m{\u001b[39;00mfunc.\u001b[34m__qualname__\u001b[39m\u001b[38;5;132;01m}\u001b[39;00m\u001b[33m must be\u001b[39m\u001b[33m\"\u001b[39m,\n\u001b[32m    227\u001b[39m         \u001b[38;5;28mstr\u001b[39m(e),\n\u001b[32m    228\u001b[39m     )\n",
      "\u001b[36mFile \u001b[39m\u001b[32mc:\\Users\\erick\\OneDrive\\Documentos\\Repositorios\\Sinalis.AI\\.venv\\Lib\\site-packages\\sklearn\\model_selection\\_split.py:2919\u001b[39m, in \u001b[36mtrain_test_split\u001b[39m\u001b[34m(test_size, train_size, random_state, shuffle, stratify, *arrays)\u001b[39m\n\u001b[32m   2916\u001b[39m arrays = indexable(*arrays)\n\u001b[32m   2918\u001b[39m n_samples = _num_samples(arrays[\u001b[32m0\u001b[39m])\n\u001b[32m-> \u001b[39m\u001b[32m2919\u001b[39m n_train, n_test = \u001b[43m_validate_shuffle_split\u001b[49m\u001b[43m(\u001b[49m\n\u001b[32m   2920\u001b[39m \u001b[43m    \u001b[49m\u001b[43mn_samples\u001b[49m\u001b[43m,\u001b[49m\u001b[43m \u001b[49m\u001b[43mtest_size\u001b[49m\u001b[43m,\u001b[49m\u001b[43m \u001b[49m\u001b[43mtrain_size\u001b[49m\u001b[43m,\u001b[49m\u001b[43m \u001b[49m\u001b[43mdefault_test_size\u001b[49m\u001b[43m=\u001b[49m\u001b[32;43m0.25\u001b[39;49m\n\u001b[32m   2921\u001b[39m \u001b[43m\u001b[49m\u001b[43m)\u001b[49m\n\u001b[32m   2923\u001b[39m \u001b[38;5;28;01mif\u001b[39;00m shuffle \u001b[38;5;129;01mis\u001b[39;00m \u001b[38;5;28;01mFalse\u001b[39;00m:\n\u001b[32m   2924\u001b[39m     \u001b[38;5;28;01mif\u001b[39;00m stratify \u001b[38;5;129;01mis\u001b[39;00m \u001b[38;5;129;01mnot\u001b[39;00m \u001b[38;5;28;01mNone\u001b[39;00m:\n",
      "\u001b[36mFile \u001b[39m\u001b[32mc:\\Users\\erick\\OneDrive\\Documentos\\Repositorios\\Sinalis.AI\\.venv\\Lib\\site-packages\\sklearn\\model_selection\\_split.py:2499\u001b[39m, in \u001b[36m_validate_shuffle_split\u001b[39m\u001b[34m(n_samples, test_size, train_size, default_test_size)\u001b[39m\n\u001b[32m   2496\u001b[39m n_train, n_test = \u001b[38;5;28mint\u001b[39m(n_train), \u001b[38;5;28mint\u001b[39m(n_test)\n\u001b[32m   2498\u001b[39m \u001b[38;5;28;01mif\u001b[39;00m n_train == \u001b[32m0\u001b[39m:\n\u001b[32m-> \u001b[39m\u001b[32m2499\u001b[39m     \u001b[38;5;28;01mraise\u001b[39;00m \u001b[38;5;167;01mValueError\u001b[39;00m(\n\u001b[32m   2500\u001b[39m         \u001b[33m\"\u001b[39m\u001b[33mWith n_samples=\u001b[39m\u001b[38;5;132;01m{}\u001b[39;00m\u001b[33m, test_size=\u001b[39m\u001b[38;5;132;01m{}\u001b[39;00m\u001b[33m and train_size=\u001b[39m\u001b[38;5;132;01m{}\u001b[39;00m\u001b[33m, the \u001b[39m\u001b[33m\"\u001b[39m\n\u001b[32m   2501\u001b[39m         \u001b[33m\"\u001b[39m\u001b[33mresulting train set will be empty. Adjust any of the \u001b[39m\u001b[33m\"\u001b[39m\n\u001b[32m   2502\u001b[39m         \u001b[33m\"\u001b[39m\u001b[33maforementioned parameters.\u001b[39m\u001b[33m\"\u001b[39m.format(n_samples, test_size, train_size)\n\u001b[32m   2503\u001b[39m     )\n\u001b[32m   2505\u001b[39m \u001b[38;5;28;01mreturn\u001b[39;00m n_train, n_test\n",
      "\u001b[31mValueError\u001b[39m: With n_samples=0, test_size=0.2 and train_size=None, the resulting train set will be empty. Adjust any of the aforementioned parameters."
     ]
    }
   ],
   "source": [
    "def carregar_dados():\n",
    "    # Caminho absoluto até o arquivo sinais.db\n",
    "    caminho_db = Path().resolve().parent / 'data' / 'sinais.db'\n",
    "    \n",
    "    # Conecta e carrega os dados\n",
    "    conn = sqlite3.connect(str(caminho_db))\n",
    "    df = pd.read_sql('SELECT * FROM candles ORDER BY open_time', conn, parse_dates=['open_time'])\n",
    "    conn.close()\n",
    "    return df\n",
    "    \n",
    "def preparar_dados(df):\n",
    "    print(\"Antes do preparo:\", len(df))\n",
    "    df = adicionar_rsi(adicionar_macd(adicionar_bbands(df)))\n",
    "    df['engolfo_alta'] = False\n",
    "    df['engolfo_baixa'] = False\n",
    "    for i in range(1, len(df)):\n",
    "        df.loc[df.index[i], 'engolfo_alta'] = engolfo_de_alta(df.iloc[i], df.iloc[i-1])\n",
    "        df.loc[df.index[i], 'engolfo_baixa'] = engolfo_de_baixa(df.iloc[i], df.iloc[i-1])\n",
    "    df['target'] = (df['close'].shift(-1) > df['close']).astype(int)\n",
    "    df = df.dropna()\n",
    "    print(\"Depois do preparo:\", len(df))\n",
    "    return df\n",
    "\n",
    "\n",
    "def treinar_modelo(df):\n",
    "    features = ['open','high','low','close','volume','rsi','macd','macd_signal','macd_diff','bb_high','bb_low','engolfo_alta','engolfo_baixa']\n",
    "    X = df[features]\n",
    "    y = df['target']\n",
    "    X_train, X_test, y_train, y_test = train_test_split(X, y, test_size=0.2, shuffle=False)\n",
    "    scaler = StandardScaler()\n",
    "    X_train = scaler.fit_transform(X_train)\n",
    "    X_test = scaler.transform(X_test)\n",
    "    modelo = RandomForestClassifier(n_estimators=100, random_state=42)\n",
    "    modelo.fit(X_train, y_train)\n",
    "    pred = modelo.predict(X_test)\n",
    "    print('Accuracy:', accuracy_score(y_test, pred))\n",
    "    print('Precision:', precision_score(y_test, pred))\n",
    "    print('Recall:', recall_score(y_test, pred))\n",
    "    print('F1:', f1_score(y_test, pred))\n",
    "    print('Matriz de confusao:\\n', confusion_matrix(y_test, pred))\n",
    "    Path('models').mkdir(exist_ok=True)\n",
    "    joblib.dump(modelo, 'models/modelo_binario.pkl')\n",
    "    joblib.dump(scaler, 'models/escalador.pkl')\n",
    "    return modelo, scaler\n",
    "\n",
    "df = carregar_dados()\n",
    "df = preparar_dados(df)\n",
    "treinar_modelo(df)"
   ]
  },
  {
   "cell_type": "code",
   "execution_count": 19,
   "id": "cd472ff4",
   "metadata": {},
   "outputs": [
    {
     "name": "stdout",
     "output_type": "stream",
     "text": [
      "14\n"
     ]
    },
    {
     "data": {
      "application/vnd.microsoft.datawrangler.viewer.v0+json": {
       "columns": [
        {
         "name": "index",
         "rawType": "int64",
         "type": "integer"
        },
        {
         "name": "id",
         "rawType": "int64",
         "type": "integer"
        },
        {
         "name": "ativo",
         "rawType": "object",
         "type": "string"
        },
        {
         "name": "open_time",
         "rawType": "datetime64[ns]",
         "type": "datetime"
        },
        {
         "name": "open",
         "rawType": "float64",
         "type": "float"
        },
        {
         "name": "high",
         "rawType": "float64",
         "type": "float"
        },
        {
         "name": "low",
         "rawType": "float64",
         "type": "float"
        },
        {
         "name": "close",
         "rawType": "float64",
         "type": "float"
        },
        {
         "name": "volume",
         "rawType": "float64",
         "type": "float"
        }
       ],
       "ref": "cfbef2f5-5139-4fee-9a4d-b44f72081efe",
       "rows": [
        [
         "0",
         "1",
         "BTCUSDT",
         "2025-06-18 22:51:00",
         "104910.56",
         "104915.98",
         "104910.55",
         "104915.98",
         "0.53467"
        ],
        [
         "1",
         "2",
         "BTCUSDT",
         "2025-06-18 22:56:00",
         "104881.87",
         "104881.87",
         "104868.0",
         "104868.01",
         "1.38572"
        ],
        [
         "2",
         "3",
         "BTCUSDT",
         "2025-06-18 22:59:00",
         "104795.2",
         "104795.21",
         "104795.2",
         "104795.2",
         "0.09474"
        ],
        [
         "3",
         "4",
         "BTCUSDT",
         "2025-06-18 22:59:00",
         "104795.2",
         "104803.34",
         "104795.2",
         "104803.34",
         "0.99211"
        ],
        [
         "4",
         "5",
         "BTCUSDT",
         "2025-06-18 23:00:00",
         "104815.23",
         "104830.4",
         "104815.23",
         "104830.39",
         "0.64813"
        ]
       ],
       "shape": {
        "columns": 8,
        "rows": 5
       }
      },
      "text/html": [
       "<div>\n",
       "<style scoped>\n",
       "    .dataframe tbody tr th:only-of-type {\n",
       "        vertical-align: middle;\n",
       "    }\n",
       "\n",
       "    .dataframe tbody tr th {\n",
       "        vertical-align: top;\n",
       "    }\n",
       "\n",
       "    .dataframe thead th {\n",
       "        text-align: right;\n",
       "    }\n",
       "</style>\n",
       "<table border=\"1\" class=\"dataframe\">\n",
       "  <thead>\n",
       "    <tr style=\"text-align: right;\">\n",
       "      <th></th>\n",
       "      <th>id</th>\n",
       "      <th>ativo</th>\n",
       "      <th>open_time</th>\n",
       "      <th>open</th>\n",
       "      <th>high</th>\n",
       "      <th>low</th>\n",
       "      <th>close</th>\n",
       "      <th>volume</th>\n",
       "    </tr>\n",
       "  </thead>\n",
       "  <tbody>\n",
       "    <tr>\n",
       "      <th>0</th>\n",
       "      <td>1</td>\n",
       "      <td>BTCUSDT</td>\n",
       "      <td>2025-06-18 22:51:00</td>\n",
       "      <td>104910.56</td>\n",
       "      <td>104915.98</td>\n",
       "      <td>104910.55</td>\n",
       "      <td>104915.98</td>\n",
       "      <td>0.53467</td>\n",
       "    </tr>\n",
       "    <tr>\n",
       "      <th>1</th>\n",
       "      <td>2</td>\n",
       "      <td>BTCUSDT</td>\n",
       "      <td>2025-06-18 22:56:00</td>\n",
       "      <td>104881.87</td>\n",
       "      <td>104881.87</td>\n",
       "      <td>104868.00</td>\n",
       "      <td>104868.01</td>\n",
       "      <td>1.38572</td>\n",
       "    </tr>\n",
       "    <tr>\n",
       "      <th>2</th>\n",
       "      <td>3</td>\n",
       "      <td>BTCUSDT</td>\n",
       "      <td>2025-06-18 22:59:00</td>\n",
       "      <td>104795.20</td>\n",
       "      <td>104795.21</td>\n",
       "      <td>104795.20</td>\n",
       "      <td>104795.20</td>\n",
       "      <td>0.09474</td>\n",
       "    </tr>\n",
       "    <tr>\n",
       "      <th>3</th>\n",
       "      <td>4</td>\n",
       "      <td>BTCUSDT</td>\n",
       "      <td>2025-06-18 22:59:00</td>\n",
       "      <td>104795.20</td>\n",
       "      <td>104803.34</td>\n",
       "      <td>104795.20</td>\n",
       "      <td>104803.34</td>\n",
       "      <td>0.99211</td>\n",
       "    </tr>\n",
       "    <tr>\n",
       "      <th>4</th>\n",
       "      <td>5</td>\n",
       "      <td>BTCUSDT</td>\n",
       "      <td>2025-06-18 23:00:00</td>\n",
       "      <td>104815.23</td>\n",
       "      <td>104830.40</td>\n",
       "      <td>104815.23</td>\n",
       "      <td>104830.39</td>\n",
       "      <td>0.64813</td>\n",
       "    </tr>\n",
       "  </tbody>\n",
       "</table>\n",
       "</div>"
      ],
      "text/plain": [
       "   id    ativo           open_time       open       high        low  \\\n",
       "0   1  BTCUSDT 2025-06-18 22:51:00  104910.56  104915.98  104910.55   \n",
       "1   2  BTCUSDT 2025-06-18 22:56:00  104881.87  104881.87  104868.00   \n",
       "2   3  BTCUSDT 2025-06-18 22:59:00  104795.20  104795.21  104795.20   \n",
       "3   4  BTCUSDT 2025-06-18 22:59:00  104795.20  104803.34  104795.20   \n",
       "4   5  BTCUSDT 2025-06-18 23:00:00  104815.23  104830.40  104815.23   \n",
       "\n",
       "       close   volume  \n",
       "0  104915.98  0.53467  \n",
       "1  104868.01  1.38572  \n",
       "2  104795.20  0.09474  \n",
       "3  104803.34  0.99211  \n",
       "4  104830.39  0.64813  "
      ]
     },
     "execution_count": 19,
     "metadata": {},
     "output_type": "execute_result"
    }
   ],
   "source": [
    "df_raw = carregar_dados()\n",
    "print(len(df_raw))\n",
    "df_raw.head()\n"
   ]
  }
 ],
 "metadata": {
  "kernelspec": {
   "display_name": ".venv",
   "language": "python",
   "name": "python3"
  },
  "language_info": {
   "codemirror_mode": {
    "name": "ipython",
    "version": 3
   },
   "file_extension": ".py",
   "mimetype": "text/x-python",
   "name": "python",
   "nbconvert_exporter": "python",
   "pygments_lexer": "ipython3",
   "version": "3.11.9"
  }
 },
 "nbformat": 4,
 "nbformat_minor": 5
}
