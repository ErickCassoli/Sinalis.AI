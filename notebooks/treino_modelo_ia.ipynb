{
 "cells": [
  {
   "cell_type": "code",
   "execution_count": 1,
   "id": "b49b5c67",
   "metadata": {},
   "outputs": [],
   "source": [
    "import sys\n",
    "from pathlib import Path\n",
    "\n",
    "# Caminho absoluto do diretório raiz do projeto\n",
    "sys.path.append(str(Path().resolve().parent))\n"
   ]
  },
  {
   "cell_type": "code",
   "execution_count": 2,
   "id": "5f601365",
   "metadata": {},
   "outputs": [],
   "source": [
    "import sqlite3\n",
    "from pathlib import Path\n",
    "import pandas as pd\n",
    "import joblib\n",
    "from sklearn.model_selection import train_test_split\n",
    "from sklearn.preprocessing import StandardScaler\n",
    "from sklearn.ensemble import RandomForestClassifier\n",
    "from sklearn.metrics import accuracy_score, precision_score, recall_score, f1_score, confusion_matrix\n",
    "from indicators.rsi import adicionar_rsi\n",
    "from indicators.macd import adicionar_macd\n",
    "from indicators.bollinger import adicionar_bbands\n",
    "from patterns.engolfo import engolfo_de_alta, engolfo_de_baixa"
   ]
  },
  {
   "cell_type": "code",
   "execution_count": 8,
   "id": "f80dc952",
   "metadata": {},
   "outputs": [
    {
     "name": "stdout",
     "output_type": "stream",
     "text": [
      "Antes do preparo: 8647\n",
      "Depois do preparo: 8614\n",
      "Accuracy: 0.51015670342426\n",
      "Precision: 0.49563046192259674\n",
      "Recall: 0.4743130227001195\n",
      "F1: 0.48473748473748474\n",
      "Matriz de confusao:\n",
      " [[482 404]\n",
      " [440 397]]\n"
     ]
    },
    {
     "data": {
      "text/plain": [
       "(RandomForestClassifier(random_state=42), StandardScaler())"
      ]
     },
     "execution_count": 8,
     "metadata": {},
     "output_type": "execute_result"
    }
   ],
   "source": [
    "def carregar_dados():\n",
    "    # Caminho absoluto até o arquivo sinais.db\n",
    "    caminho_db = Path().resolve().parent / 'data' / 'sinais.db'\n",
    "    \n",
    "    # Conecta e carrega os dados\n",
    "    conn = sqlite3.connect(str(caminho_db))\n",
    "    df = pd.read_sql('SELECT * FROM candles ORDER BY open_time', conn, parse_dates=['open_time'])\n",
    "    conn.close()\n",
    "    return df\n",
    "    \n",
    "def preparar_dados(df):\n",
    "    print(\"Antes do preparo:\", len(df))\n",
    "    df = adicionar_rsi(adicionar_macd(adicionar_bbands(df)))\n",
    "    df['engolfo_alta'] = False\n",
    "    df['engolfo_baixa'] = False\n",
    "    for i in range(1, len(df)):\n",
    "        df.loc[df.index[i], 'engolfo_alta'] = engolfo_de_alta(df.iloc[i], df.iloc[i-1])\n",
    "        df.loc[df.index[i], 'engolfo_baixa'] = engolfo_de_baixa(df.iloc[i], df.iloc[i-1])\n",
    "    df['target'] = (df['close'].shift(-1) > df['close']).astype(int)\n",
    "    df = df.dropna()\n",
    "    print(\"Depois do preparo:\", len(df))\n",
    "    return df\n",
    "\n",
    "\n",
    "def treinar_modelo(df):\n",
    "    features = ['open','high','low','close','volume','rsi','macd','macd_signal','macd_diff','bb_high','bb_low','engolfo_alta','engolfo_baixa']\n",
    "    X = df[features]\n",
    "    y = df['target']\n",
    "    X_train, X_test, y_train, y_test = train_test_split(X, y, test_size=0.2, shuffle=False)\n",
    "    scaler = StandardScaler()\n",
    "    X_train = scaler.fit_transform(X_train)\n",
    "    X_test = scaler.transform(X_test)\n",
    "    modelo = RandomForestClassifier(n_estimators=100, random_state=42)\n",
    "    modelo.fit(X_train, y_train)\n",
    "    pred = modelo.predict(X_test)\n",
    "    print('Accuracy:', accuracy_score(y_test, pred))\n",
    "    print('Precision:', precision_score(y_test, pred))\n",
    "    print('Recall:', recall_score(y_test, pred))\n",
    "    print('F1:', f1_score(y_test, pred))\n",
    "    print('Matriz de confusao:\\n', confusion_matrix(y_test, pred))\n",
    "    Path('../models').mkdir(exist_ok=True)\n",
    "    joblib.dump(modelo, '../models/modelo_binario.pkl')\n",
    "    joblib.dump(scaler, '../models/escalador.pkl')\n",
    "    return modelo, scaler\n",
    "\n",
    "df = carregar_dados()\n",
    "df = preparar_dados(df)\n",
    "treinar_modelo(df)"
   ]
  },
  {
   "cell_type": "code",
   "execution_count": 4,
   "id": "cd472ff4",
   "metadata": {},
   "outputs": [
    {
     "name": "stdout",
     "output_type": "stream",
     "text": [
      "8640\n"
     ]
    },
    {
     "data": {
      "application/vnd.microsoft.datawrangler.viewer.v0+json": {
       "columns": [
        {
         "name": "index",
         "rawType": "int64",
         "type": "integer"
        },
        {
         "name": "id",
         "rawType": "int64",
         "type": "integer"
        },
        {
         "name": "ativo",
         "rawType": "object",
         "type": "string"
        },
        {
         "name": "open_time",
         "rawType": "datetime64[ns]",
         "type": "datetime"
        },
        {
         "name": "open",
         "rawType": "float64",
         "type": "float"
        },
        {
         "name": "high",
         "rawType": "float64",
         "type": "float"
        },
        {
         "name": "low",
         "rawType": "float64",
         "type": "float"
        },
        {
         "name": "close",
         "rawType": "float64",
         "type": "float"
        },
        {
         "name": "volume",
         "rawType": "float64",
         "type": "float"
        }
       ],
       "ref": "4793233a-adb4-41fb-bc20-07e2e60c2b42",
       "rows": [
        [
         "0",
         "1",
         "BTCUSDT",
         "2025-05-19 23:55:00",
         "105600.01",
         "105614.65",
         "105551.15",
         "105573.74",
         "20.35815"
        ],
        [
         "1",
         "2",
         "BTCUSDT",
         "2025-05-20 00:00:00",
         "105573.73",
         "105700.99",
         "105554.31",
         "105700.99",
         "50.24604"
        ],
        [
         "2",
         "3",
         "BTCUSDT",
         "2025-05-20 00:05:00",
         "105700.99",
         "105988.0",
         "105681.6",
         "105970.52",
         "131.77018"
        ],
        [
         "3",
         "4",
         "BTCUSDT",
         "2025-05-20 00:10:00",
         "105970.51",
         "106000.0",
         "105939.56",
         "105999.99",
         "137.24583"
        ],
        [
         "4",
         "5",
         "BTCUSDT",
         "2025-05-20 00:15:00",
         "105999.99",
         "106499.0",
         "105999.99",
         "106495.32",
         "536.40351"
        ]
       ],
       "shape": {
        "columns": 8,
        "rows": 5
       }
      },
      "text/html": [
       "<div>\n",
       "<style scoped>\n",
       "    .dataframe tbody tr th:only-of-type {\n",
       "        vertical-align: middle;\n",
       "    }\n",
       "\n",
       "    .dataframe tbody tr th {\n",
       "        vertical-align: top;\n",
       "    }\n",
       "\n",
       "    .dataframe thead th {\n",
       "        text-align: right;\n",
       "    }\n",
       "</style>\n",
       "<table border=\"1\" class=\"dataframe\">\n",
       "  <thead>\n",
       "    <tr style=\"text-align: right;\">\n",
       "      <th></th>\n",
       "      <th>id</th>\n",
       "      <th>ativo</th>\n",
       "      <th>open_time</th>\n",
       "      <th>open</th>\n",
       "      <th>high</th>\n",
       "      <th>low</th>\n",
       "      <th>close</th>\n",
       "      <th>volume</th>\n",
       "    </tr>\n",
       "  </thead>\n",
       "  <tbody>\n",
       "    <tr>\n",
       "      <th>0</th>\n",
       "      <td>1</td>\n",
       "      <td>BTCUSDT</td>\n",
       "      <td>2025-05-19 23:55:00</td>\n",
       "      <td>105600.01</td>\n",
       "      <td>105614.65</td>\n",
       "      <td>105551.15</td>\n",
       "      <td>105573.74</td>\n",
       "      <td>20.35815</td>\n",
       "    </tr>\n",
       "    <tr>\n",
       "      <th>1</th>\n",
       "      <td>2</td>\n",
       "      <td>BTCUSDT</td>\n",
       "      <td>2025-05-20 00:00:00</td>\n",
       "      <td>105573.73</td>\n",
       "      <td>105700.99</td>\n",
       "      <td>105554.31</td>\n",
       "      <td>105700.99</td>\n",
       "      <td>50.24604</td>\n",
       "    </tr>\n",
       "    <tr>\n",
       "      <th>2</th>\n",
       "      <td>3</td>\n",
       "      <td>BTCUSDT</td>\n",
       "      <td>2025-05-20 00:05:00</td>\n",
       "      <td>105700.99</td>\n",
       "      <td>105988.00</td>\n",
       "      <td>105681.60</td>\n",
       "      <td>105970.52</td>\n",
       "      <td>131.77018</td>\n",
       "    </tr>\n",
       "    <tr>\n",
       "      <th>3</th>\n",
       "      <td>4</td>\n",
       "      <td>BTCUSDT</td>\n",
       "      <td>2025-05-20 00:10:00</td>\n",
       "      <td>105970.51</td>\n",
       "      <td>106000.00</td>\n",
       "      <td>105939.56</td>\n",
       "      <td>105999.99</td>\n",
       "      <td>137.24583</td>\n",
       "    </tr>\n",
       "    <tr>\n",
       "      <th>4</th>\n",
       "      <td>5</td>\n",
       "      <td>BTCUSDT</td>\n",
       "      <td>2025-05-20 00:15:00</td>\n",
       "      <td>105999.99</td>\n",
       "      <td>106499.00</td>\n",
       "      <td>105999.99</td>\n",
       "      <td>106495.32</td>\n",
       "      <td>536.40351</td>\n",
       "    </tr>\n",
       "  </tbody>\n",
       "</table>\n",
       "</div>"
      ],
      "text/plain": [
       "   id    ativo           open_time       open       high        low  \\\n",
       "0   1  BTCUSDT 2025-05-19 23:55:00  105600.01  105614.65  105551.15   \n",
       "1   2  BTCUSDT 2025-05-20 00:00:00  105573.73  105700.99  105554.31   \n",
       "2   3  BTCUSDT 2025-05-20 00:05:00  105700.99  105988.00  105681.60   \n",
       "3   4  BTCUSDT 2025-05-20 00:10:00  105970.51  106000.00  105939.56   \n",
       "4   5  BTCUSDT 2025-05-20 00:15:00  105999.99  106499.00  105999.99   \n",
       "\n",
       "       close     volume  \n",
       "0  105573.74   20.35815  \n",
       "1  105700.99   50.24604  \n",
       "2  105970.52  131.77018  \n",
       "3  105999.99  137.24583  \n",
       "4  106495.32  536.40351  "
      ]
     },
     "execution_count": 4,
     "metadata": {},
     "output_type": "execute_result"
    }
   ],
   "source": [
    "df_raw = carregar_dados()\n",
    "print(len(df_raw))\n",
    "df_raw.head()\n"
   ]
  }
 ],
 "metadata": {
  "kernelspec": {
   "display_name": ".venv",
   "language": "python",
   "name": "python3"
  },
  "language_info": {
   "codemirror_mode": {
    "name": "ipython",
    "version": 3
   },
   "file_extension": ".py",
   "mimetype": "text/x-python",
   "name": "python",
   "nbconvert_exporter": "python",
   "pygments_lexer": "ipython3",
   "version": "3.11.9"
  }
 },
 "nbformat": 4,
 "nbformat_minor": 5
}
